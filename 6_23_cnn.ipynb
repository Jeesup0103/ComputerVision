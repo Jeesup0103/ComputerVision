{
 "cells": [
  {
   "cell_type": "code",
   "execution_count": 1,
   "metadata": {
    "colab": {
     "base_uri": "https://localhost:8080/"
    },
    "id": "Dxr-bY7VeFC7",
    "outputId": "2321ec1c-510f-4c44-cb75-143284a8b9b5"
   },
   "outputs": [
    {
     "name": "stdout",
     "output_type": "stream",
     "text": [
      "Requirement already satisfied: timm in /Users/jeesuppark/opt/miniconda3/lib/python3.9/site-packages (0.6.7)\n",
      "Requirement already satisfied: torch>=1.4 in /Users/jeesuppark/opt/miniconda3/lib/python3.9/site-packages (from timm) (1.13.1)\n",
      "Requirement already satisfied: torchvision in /Users/jeesuppark/opt/miniconda3/lib/python3.9/site-packages (from timm) (0.14.1)\n",
      "Requirement already satisfied: typing-extensions in /Users/jeesuppark/opt/miniconda3/lib/python3.9/site-packages (from torch>=1.4->timm) (4.4.0)\n",
      "Requirement already satisfied: numpy in /Users/jeesuppark/opt/miniconda3/lib/python3.9/site-packages (from torchvision->timm) (1.23.2)\n",
      "Requirement already satisfied: requests in /Users/jeesuppark/opt/miniconda3/lib/python3.9/site-packages (from torchvision->timm) (2.28.1)\n",
      "Requirement already satisfied: pillow!=8.3.*,>=5.3.0 in /Users/jeesuppark/opt/miniconda3/lib/python3.9/site-packages (from torchvision->timm) (9.4.0)\n",
      "Requirement already satisfied: charset-normalizer<3,>=2 in /Users/jeesuppark/opt/miniconda3/lib/python3.9/site-packages (from requests->torchvision->timm) (2.0.4)\n",
      "Requirement already satisfied: idna<4,>=2.5 in /Users/jeesuppark/opt/miniconda3/lib/python3.9/site-packages (from requests->torchvision->timm) (2.10)\n",
      "Requirement already satisfied: urllib3<1.27,>=1.21.1 in /Users/jeesuppark/opt/miniconda3/lib/python3.9/site-packages (from requests->torchvision->timm) (1.26.14)\n",
      "Requirement already satisfied: certifi>=2017.4.17 in /Users/jeesuppark/opt/miniconda3/lib/python3.9/site-packages (from requests->torchvision->timm) (2022.12.7)\n",
      "Requirement already satisfied: mlflow in /Users/jeesuppark/opt/miniconda3/lib/python3.9/site-packages (2.4.1)\n",
      "Requirement already satisfied: click<9,>=7.0 in /Users/jeesuppark/opt/miniconda3/lib/python3.9/site-packages (from mlflow) (8.1.3)\n",
      "Requirement already satisfied: cloudpickle<3 in /Users/jeesuppark/opt/miniconda3/lib/python3.9/site-packages (from mlflow) (2.2.1)\n",
      "Requirement already satisfied: databricks-cli<1,>=0.8.7 in /Users/jeesuppark/opt/miniconda3/lib/python3.9/site-packages (from mlflow) (0.17.7)\n",
      "Requirement already satisfied: entrypoints<1 in /Users/jeesuppark/opt/miniconda3/lib/python3.9/site-packages (from mlflow) (0.4)\n",
      "Requirement already satisfied: gitpython<4,>=2.1.0 in /Users/jeesuppark/opt/miniconda3/lib/python3.9/site-packages (from mlflow) (3.1.27)\n",
      "Requirement already satisfied: pyyaml<7,>=5.1 in /Users/jeesuppark/opt/miniconda3/lib/python3.9/site-packages (from mlflow) (6.0)\n",
      "Requirement already satisfied: protobuf<5,>=3.12.0 in /Users/jeesuppark/opt/miniconda3/lib/python3.9/site-packages (from mlflow) (4.21.12)\n",
      "Requirement already satisfied: pytz<2024 in /Users/jeesuppark/opt/miniconda3/lib/python3.9/site-packages (from mlflow) (2022.2.1)\n",
      "Requirement already satisfied: requests<3,>=2.17.3 in /Users/jeesuppark/opt/miniconda3/lib/python3.9/site-packages (from mlflow) (2.28.1)\n",
      "Requirement already satisfied: packaging<24 in /Users/jeesuppark/opt/miniconda3/lib/python3.9/site-packages (from mlflow) (21.3)\n",
      "Requirement already satisfied: importlib-metadata!=4.7.0,<7,>=3.7.0 in /Users/jeesuppark/opt/miniconda3/lib/python3.9/site-packages (from mlflow) (4.12.0)\n",
      "Requirement already satisfied: sqlparse<1,>=0.4.0 in /Users/jeesuppark/opt/miniconda3/lib/python3.9/site-packages (from mlflow) (0.4.4)\n",
      "Requirement already satisfied: alembic!=1.10.0,<2 in /Users/jeesuppark/opt/miniconda3/lib/python3.9/site-packages (from mlflow) (1.11.1)\n",
      "Requirement already satisfied: docker<7,>=4.0.0 in /Users/jeesuppark/opt/miniconda3/lib/python3.9/site-packages (from mlflow) (6.1.3)\n",
      "Requirement already satisfied: Flask<3 in /Users/jeesuppark/opt/miniconda3/lib/python3.9/site-packages (from mlflow) (2.3.2)\n",
      "Requirement already satisfied: numpy<2 in /Users/jeesuppark/opt/miniconda3/lib/python3.9/site-packages (from mlflow) (1.23.2)\n",
      "Requirement already satisfied: scipy<2 in /Users/jeesuppark/opt/miniconda3/lib/python3.9/site-packages (from mlflow) (1.9.1)\n",
      "Requirement already satisfied: pandas<3 in /Users/jeesuppark/opt/miniconda3/lib/python3.9/site-packages (from mlflow) (1.4.3)\n",
      "Requirement already satisfied: querystring-parser<2 in /Users/jeesuppark/opt/miniconda3/lib/python3.9/site-packages (from mlflow) (1.2.4)\n",
      "Requirement already satisfied: sqlalchemy<3,>=1.4.0 in /Users/jeesuppark/opt/miniconda3/lib/python3.9/site-packages (from mlflow) (2.0.16)\n",
      "Requirement already satisfied: scikit-learn<2 in /Users/jeesuppark/opt/miniconda3/lib/python3.9/site-packages (from mlflow) (1.2.2)\n",
      "Requirement already satisfied: pyarrow<13,>=4.0.0 in /Users/jeesuppark/opt/miniconda3/lib/python3.9/site-packages (from mlflow) (12.0.0)\n",
      "Requirement already satisfied: markdown<4,>=3.3 in /Users/jeesuppark/opt/miniconda3/lib/python3.9/site-packages (from mlflow) (3.4.1)\n",
      "Requirement already satisfied: matplotlib<4 in /Users/jeesuppark/opt/miniconda3/lib/python3.9/site-packages (from mlflow) (3.5.3)\n",
      "Requirement already satisfied: gunicorn<21 in /Users/jeesuppark/opt/miniconda3/lib/python3.9/site-packages (from mlflow) (20.1.0)\n",
      "Requirement already satisfied: Jinja2<4,>=2.11 in /Users/jeesuppark/opt/miniconda3/lib/python3.9/site-packages (from mlflow) (3.1.2)\n",
      "Requirement already satisfied: Mako in /Users/jeesuppark/opt/miniconda3/lib/python3.9/site-packages (from alembic!=1.10.0,<2->mlflow) (1.2.4)\n",
      "Requirement already satisfied: typing-extensions>=4 in /Users/jeesuppark/opt/miniconda3/lib/python3.9/site-packages (from alembic!=1.10.0,<2->mlflow) (4.4.0)\n",
      "Requirement already satisfied: pyjwt>=1.7.0 in /Users/jeesuppark/opt/miniconda3/lib/python3.9/site-packages (from databricks-cli<1,>=0.8.7->mlflow) (2.7.0)\n",
      "Requirement already satisfied: oauthlib>=3.1.0 in /Users/jeesuppark/opt/miniconda3/lib/python3.9/site-packages (from databricks-cli<1,>=0.8.7->mlflow) (3.2.2)\n",
      "Requirement already satisfied: tabulate>=0.7.7 in /Users/jeesuppark/opt/miniconda3/lib/python3.9/site-packages (from databricks-cli<1,>=0.8.7->mlflow) (0.9.0)\n",
      "Requirement already satisfied: six>=1.10.0 in /Users/jeesuppark/opt/miniconda3/lib/python3.9/site-packages (from databricks-cli<1,>=0.8.7->mlflow) (1.16.0)\n",
      "Requirement already satisfied: urllib3<2.0.0,>=1.26.7 in /Users/jeesuppark/opt/miniconda3/lib/python3.9/site-packages (from databricks-cli<1,>=0.8.7->mlflow) (1.26.14)\n",
      "Requirement already satisfied: websocket-client>=0.32.0 in /Users/jeesuppark/opt/miniconda3/lib/python3.9/site-packages (from docker<7,>=4.0.0->mlflow) (1.5.3)\n",
      "Requirement already satisfied: Werkzeug>=2.3.3 in /Users/jeesuppark/opt/miniconda3/lib/python3.9/site-packages (from Flask<3->mlflow) (2.3.6)\n",
      "Requirement already satisfied: itsdangerous>=2.1.2 in /Users/jeesuppark/opt/miniconda3/lib/python3.9/site-packages (from Flask<3->mlflow) (2.1.2)\n",
      "Requirement already satisfied: blinker>=1.6.2 in /Users/jeesuppark/opt/miniconda3/lib/python3.9/site-packages (from Flask<3->mlflow) (1.6.2)\n",
      "Requirement already satisfied: gitdb<5,>=4.0.1 in /Users/jeesuppark/opt/miniconda3/lib/python3.9/site-packages (from gitpython<4,>=2.1.0->mlflow) (4.0.10)\n",
      "Requirement already satisfied: setuptools>=3.0 in /Users/jeesuppark/opt/miniconda3/lib/python3.9/site-packages (from gunicorn<21->mlflow) (65.6.3)\n",
      "Requirement already satisfied: zipp>=0.5 in /Users/jeesuppark/opt/miniconda3/lib/python3.9/site-packages (from importlib-metadata!=4.7.0,<7,>=3.7.0->mlflow) (3.8.1)\n",
      "Requirement already satisfied: MarkupSafe>=2.0 in /Users/jeesuppark/opt/miniconda3/lib/python3.9/site-packages (from Jinja2<4,>=2.11->mlflow) (2.1.1)\n",
      "Requirement already satisfied: cycler>=0.10 in /Users/jeesuppark/opt/miniconda3/lib/python3.9/site-packages (from matplotlib<4->mlflow) (0.11.0)\n",
      "Requirement already satisfied: fonttools>=4.22.0 in /Users/jeesuppark/opt/miniconda3/lib/python3.9/site-packages (from matplotlib<4->mlflow) (4.37.1)\n",
      "Requirement already satisfied: kiwisolver>=1.0.1 in /Users/jeesuppark/opt/miniconda3/lib/python3.9/site-packages (from matplotlib<4->mlflow) (1.4.4)\n",
      "Requirement already satisfied: pillow>=6.2.0 in /Users/jeesuppark/opt/miniconda3/lib/python3.9/site-packages (from matplotlib<4->mlflow) (9.4.0)\n",
      "Requirement already satisfied: pyparsing>=2.2.1 in /Users/jeesuppark/opt/miniconda3/lib/python3.9/site-packages (from matplotlib<4->mlflow) (3.0.9)\n",
      "Requirement already satisfied: python-dateutil>=2.7 in /Users/jeesuppark/opt/miniconda3/lib/python3.9/site-packages (from matplotlib<4->mlflow) (2.8.2)\n",
      "Requirement already satisfied: charset-normalizer<3,>=2 in /Users/jeesuppark/opt/miniconda3/lib/python3.9/site-packages (from requests<3,>=2.17.3->mlflow) (2.0.4)\n",
      "Requirement already satisfied: idna<4,>=2.5 in /Users/jeesuppark/opt/miniconda3/lib/python3.9/site-packages (from requests<3,>=2.17.3->mlflow) (2.10)\n",
      "Requirement already satisfied: certifi>=2017.4.17 in /Users/jeesuppark/opt/miniconda3/lib/python3.9/site-packages (from requests<3,>=2.17.3->mlflow) (2022.12.7)\n"
     ]
    },
    {
     "name": "stdout",
     "output_type": "stream",
     "text": [
      "Requirement already satisfied: joblib>=1.1.1 in /Users/jeesuppark/opt/miniconda3/lib/python3.9/site-packages (from scikit-learn<2->mlflow) (1.2.0)\n",
      "Requirement already satisfied: threadpoolctl>=2.0.0 in /Users/jeesuppark/opt/miniconda3/lib/python3.9/site-packages (from scikit-learn<2->mlflow) (3.1.0)\n",
      "Requirement already satisfied: smmap<6,>=3.0.1 in /Users/jeesuppark/opt/miniconda3/lib/python3.9/site-packages (from gitdb<5,>=4.0.1->gitpython<4,>=2.1.0->mlflow) (5.0.0)\n",
      "Requirement already satisfied: einops in /Users/jeesuppark/opt/miniconda3/lib/python3.9/site-packages (0.4.1)\n",
      "Requirement already satisfied: huggingface_hub in /Users/jeesuppark/opt/miniconda3/lib/python3.9/site-packages (0.15.1)\n",
      "Requirement already satisfied: filelock in /Users/jeesuppark/opt/miniconda3/lib/python3.9/site-packages (from huggingface_hub) (3.9.0)\n",
      "Requirement already satisfied: fsspec in /Users/jeesuppark/opt/miniconda3/lib/python3.9/site-packages (from huggingface_hub) (2023.1.0)\n",
      "Requirement already satisfied: requests in /Users/jeesuppark/opt/miniconda3/lib/python3.9/site-packages (from huggingface_hub) (2.28.1)\n",
      "Requirement already satisfied: tqdm>=4.42.1 in /Users/jeesuppark/opt/miniconda3/lib/python3.9/site-packages (from huggingface_hub) (4.64.1)\n",
      "Requirement already satisfied: pyyaml>=5.1 in /Users/jeesuppark/opt/miniconda3/lib/python3.9/site-packages (from huggingface_hub) (6.0)\n",
      "Requirement already satisfied: typing-extensions>=3.7.4.3 in /Users/jeesuppark/opt/miniconda3/lib/python3.9/site-packages (from huggingface_hub) (4.4.0)\n",
      "Requirement already satisfied: packaging>=20.9 in /Users/jeesuppark/opt/miniconda3/lib/python3.9/site-packages (from huggingface_hub) (21.3)\n",
      "Requirement already satisfied: pyparsing!=3.0.5,>=2.0.2 in /Users/jeesuppark/opt/miniconda3/lib/python3.9/site-packages (from packaging>=20.9->huggingface_hub) (3.0.9)\n",
      "Requirement already satisfied: charset-normalizer<3,>=2 in /Users/jeesuppark/opt/miniconda3/lib/python3.9/site-packages (from requests->huggingface_hub) (2.0.4)\n",
      "Requirement already satisfied: idna<4,>=2.5 in /Users/jeesuppark/opt/miniconda3/lib/python3.9/site-packages (from requests->huggingface_hub) (2.10)\n",
      "Requirement already satisfied: urllib3<1.27,>=1.21.1 in /Users/jeesuppark/opt/miniconda3/lib/python3.9/site-packages (from requests->huggingface_hub) (1.26.14)\n",
      "Requirement already satisfied: certifi>=2017.4.17 in /Users/jeesuppark/opt/miniconda3/lib/python3.9/site-packages (from requests->huggingface_hub) (2022.12.7)\n"
     ]
    }
   ],
   "source": [
    "!pip install timm\n",
    "!pip install mlflow\n",
    "!pip install einops"
   ]
  },
  {
   "cell_type": "code",
   "execution_count": 17,
   "metadata": {
    "id": "Mvk6y8EqdZZx"
   },
   "outputs": [],
   "source": [
    "import numpy as np\n",
    "import torch\n",
    "import torch.nn as nn\n",
    "import pandas as pd\n",
    "import os.path\n",
    "import matplotlib.pyplot as plt\n",
    "import seaborn as sns\n",
    "import torch\n",
    "import torch.nn as nn\n",
    "import os\n",
    "import timm\n",
    "import random\n",
    "import matplotlib.ticker as ticker\n",
    "import torch.nn.functional as F\n",
    "import json\n",
    "import torchvision\n",
    "\n",
    "from tqdm import tqdm, trange\n",
    "from torch.optim import Adam\n",
    "from torch.nn import CrossEntropyLoss\n",
    "from torch.utils.data import DataLoader, Dataset\n",
    "from torchvision.transforms import ToTensor\n",
    "from pathlib import Path\n",
    "from PIL import Image\n",
    "from torchvision import datasets, transforms\n",
    "from torch.optim.lr_scheduler import ReduceLROnPlateau\n",
    "from torch import optim\n",
    "from torchvision.io import read_image\n",
    "from torchvision.models import resnet50, ResNet50_Weights\n"
   ]
  },
  {
   "cell_type": "code",
   "execution_count": 24,
   "metadata": {
    "colab": {
     "base_uri": "https://localhost:8080/"
    },
    "id": "vBXJk4_aeBye",
    "outputId": "190f5810-65e0-42a6-9549-dfa1490fc0fd"
   },
   "outputs": [
    {
     "ename": "ValueError",
     "evalue": "Shape of passed values is (3000, 1), indices imply (3000, 2)",
     "output_type": "error",
     "traceback": [
      "\u001b[0;31m---------------------------------------------------------------------------\u001b[0m",
      "\u001b[0;31mValueError\u001b[0m                                Traceback (most recent call last)",
      "Input \u001b[0;32mIn [24]\u001b[0m, in \u001b[0;36m<cell line: 17>\u001b[0;34m()\u001b[0m\n\u001b[1;32m     14\u001b[0m     grade \u001b[38;5;241m=\u001b[39m \u001b[38;5;28mint\u001b[39m(image_dir\u001b[38;5;241m.\u001b[39mstem[\u001b[38;5;241m-\u001b[39m\u001b[38;5;241m1\u001b[39m])  \u001b[38;5;66;03m# Extract the last character of the directory name as the grade\u001b[39;00m\n\u001b[1;32m     15\u001b[0m     filepaths\u001b[38;5;241m.\u001b[39mextend([\u001b[38;5;28mstr\u001b[39m(image_dir \u001b[38;5;241m/\u001b[39m file) \u001b[38;5;28;01mfor\u001b[39;00m file \u001b[38;5;129;01min\u001b[39;00m os\u001b[38;5;241m.\u001b[39mlistdir(image_dir) \u001b[38;5;28;01mif\u001b[39;00m file\u001b[38;5;241m.\u001b[39mendswith(\u001b[38;5;124m'\u001b[39m\u001b[38;5;124m.jpg\u001b[39m\u001b[38;5;124m'\u001b[39m)])\n\u001b[0;32m---> 17\u001b[0m data \u001b[38;5;241m=\u001b[39m \u001b[43mpd\u001b[49m\u001b[38;5;241;43m.\u001b[39;49m\u001b[43mDataFrame\u001b[49m\u001b[43m(\u001b[49m\u001b[43mfilepaths\u001b[49m\u001b[43m,\u001b[49m\u001b[43m \u001b[49m\u001b[43mcolumns\u001b[49m\u001b[38;5;241;43m=\u001b[39;49m\u001b[43m[\u001b[49m\u001b[38;5;124;43m'\u001b[39;49m\u001b[38;5;124;43mFilepath\u001b[39;49m\u001b[38;5;124;43m'\u001b[39;49m\u001b[43m,\u001b[49m\u001b[38;5;124;43m'\u001b[39;49m\u001b[38;5;124;43mGrade\u001b[39;49m\u001b[38;5;124;43m'\u001b[39;49m\u001b[43m]\u001b[49m\u001b[43m)\u001b[49m\n\u001b[1;32m     19\u001b[0m data[\u001b[38;5;124m'\u001b[39m\u001b[38;5;124mGrade\u001b[39m\u001b[38;5;124m'\u001b[39m] \u001b[38;5;241m=\u001b[39m [Path(filepath)\u001b[38;5;241m.\u001b[39mstem\u001b[38;5;241m.\u001b[39msplit(\u001b[38;5;124m'\u001b[39m\u001b[38;5;124m_\u001b[39m\u001b[38;5;124m'\u001b[39m)[\u001b[38;5;241m-\u001b[39m\u001b[38;5;241m2\u001b[39m] \u001b[38;5;28;01mfor\u001b[39;00m filepath \u001b[38;5;129;01min\u001b[39;00m data[\u001b[38;5;124m'\u001b[39m\u001b[38;5;124mFilepath\u001b[39m\u001b[38;5;124m'\u001b[39m]]\n\u001b[1;32m     20\u001b[0m data[\u001b[38;5;124m'\u001b[39m\u001b[38;5;124mGrade\u001b[39m\u001b[38;5;124m'\u001b[39m] \u001b[38;5;241m=\u001b[39m data[\u001b[38;5;124m'\u001b[39m\u001b[38;5;124mGrade\u001b[39m\u001b[38;5;124m'\u001b[39m]\u001b[38;5;241m.\u001b[39mapply(gradify)\u001b[38;5;241m-\u001b[39m\u001b[38;5;241m1\u001b[39m\n",
      "File \u001b[0;32m~/opt/miniconda3/lib/python3.9/site-packages/pandas/core/frame.py:737\u001b[0m, in \u001b[0;36mDataFrame.__init__\u001b[0;34m(self, data, index, columns, dtype, copy)\u001b[0m\n\u001b[1;32m    729\u001b[0m         mgr \u001b[38;5;241m=\u001b[39m arrays_to_mgr(\n\u001b[1;32m    730\u001b[0m             arrays,\n\u001b[1;32m    731\u001b[0m             columns,\n\u001b[0;32m   (...)\u001b[0m\n\u001b[1;32m    734\u001b[0m             typ\u001b[38;5;241m=\u001b[39mmanager,\n\u001b[1;32m    735\u001b[0m         )\n\u001b[1;32m    736\u001b[0m     \u001b[38;5;28;01melse\u001b[39;00m:\n\u001b[0;32m--> 737\u001b[0m         mgr \u001b[38;5;241m=\u001b[39m \u001b[43mndarray_to_mgr\u001b[49m\u001b[43m(\u001b[49m\n\u001b[1;32m    738\u001b[0m \u001b[43m            \u001b[49m\u001b[43mdata\u001b[49m\u001b[43m,\u001b[49m\n\u001b[1;32m    739\u001b[0m \u001b[43m            \u001b[49m\u001b[43mindex\u001b[49m\u001b[43m,\u001b[49m\n\u001b[1;32m    740\u001b[0m \u001b[43m            \u001b[49m\u001b[43mcolumns\u001b[49m\u001b[43m,\u001b[49m\n\u001b[1;32m    741\u001b[0m \u001b[43m            \u001b[49m\u001b[43mdtype\u001b[49m\u001b[38;5;241;43m=\u001b[39;49m\u001b[43mdtype\u001b[49m\u001b[43m,\u001b[49m\n\u001b[1;32m    742\u001b[0m \u001b[43m            \u001b[49m\u001b[43mcopy\u001b[49m\u001b[38;5;241;43m=\u001b[39;49m\u001b[43mcopy\u001b[49m\u001b[43m,\u001b[49m\n\u001b[1;32m    743\u001b[0m \u001b[43m            \u001b[49m\u001b[43mtyp\u001b[49m\u001b[38;5;241;43m=\u001b[39;49m\u001b[43mmanager\u001b[49m\u001b[43m,\u001b[49m\n\u001b[1;32m    744\u001b[0m \u001b[43m        \u001b[49m\u001b[43m)\u001b[49m\n\u001b[1;32m    745\u001b[0m \u001b[38;5;28;01melse\u001b[39;00m:\n\u001b[1;32m    746\u001b[0m     mgr \u001b[38;5;241m=\u001b[39m dict_to_mgr(\n\u001b[1;32m    747\u001b[0m         {},\n\u001b[1;32m    748\u001b[0m         index,\n\u001b[0;32m   (...)\u001b[0m\n\u001b[1;32m    751\u001b[0m         typ\u001b[38;5;241m=\u001b[39mmanager,\n\u001b[1;32m    752\u001b[0m     )\n",
      "File \u001b[0;32m~/opt/miniconda3/lib/python3.9/site-packages/pandas/core/internals/construction.py:351\u001b[0m, in \u001b[0;36mndarray_to_mgr\u001b[0;34m(values, index, columns, dtype, copy, typ)\u001b[0m\n\u001b[1;32m    346\u001b[0m \u001b[38;5;66;03m# _prep_ndarray ensures that values.ndim == 2 at this point\u001b[39;00m\n\u001b[1;32m    347\u001b[0m index, columns \u001b[38;5;241m=\u001b[39m _get_axes(\n\u001b[1;32m    348\u001b[0m     values\u001b[38;5;241m.\u001b[39mshape[\u001b[38;5;241m0\u001b[39m], values\u001b[38;5;241m.\u001b[39mshape[\u001b[38;5;241m1\u001b[39m], index\u001b[38;5;241m=\u001b[39mindex, columns\u001b[38;5;241m=\u001b[39mcolumns\n\u001b[1;32m    349\u001b[0m )\n\u001b[0;32m--> 351\u001b[0m \u001b[43m_check_values_indices_shape_match\u001b[49m\u001b[43m(\u001b[49m\u001b[43mvalues\u001b[49m\u001b[43m,\u001b[49m\u001b[43m \u001b[49m\u001b[43mindex\u001b[49m\u001b[43m,\u001b[49m\u001b[43m \u001b[49m\u001b[43mcolumns\u001b[49m\u001b[43m)\u001b[49m\n\u001b[1;32m    353\u001b[0m \u001b[38;5;28;01mif\u001b[39;00m typ \u001b[38;5;241m==\u001b[39m \u001b[38;5;124m\"\u001b[39m\u001b[38;5;124marray\u001b[39m\u001b[38;5;124m\"\u001b[39m:\n\u001b[1;32m    355\u001b[0m     \u001b[38;5;28;01mif\u001b[39;00m \u001b[38;5;28missubclass\u001b[39m(values\u001b[38;5;241m.\u001b[39mdtype\u001b[38;5;241m.\u001b[39mtype, \u001b[38;5;28mstr\u001b[39m):\n",
      "File \u001b[0;32m~/opt/miniconda3/lib/python3.9/site-packages/pandas/core/internals/construction.py:422\u001b[0m, in \u001b[0;36m_check_values_indices_shape_match\u001b[0;34m(values, index, columns)\u001b[0m\n\u001b[1;32m    420\u001b[0m passed \u001b[38;5;241m=\u001b[39m values\u001b[38;5;241m.\u001b[39mshape\n\u001b[1;32m    421\u001b[0m implied \u001b[38;5;241m=\u001b[39m (\u001b[38;5;28mlen\u001b[39m(index), \u001b[38;5;28mlen\u001b[39m(columns))\n\u001b[0;32m--> 422\u001b[0m \u001b[38;5;28;01mraise\u001b[39;00m \u001b[38;5;167;01mValueError\u001b[39;00m(\u001b[38;5;124mf\u001b[39m\u001b[38;5;124m\"\u001b[39m\u001b[38;5;124mShape of passed values is \u001b[39m\u001b[38;5;132;01m{\u001b[39;00mpassed\u001b[38;5;132;01m}\u001b[39;00m\u001b[38;5;124m, indices imply \u001b[39m\u001b[38;5;132;01m{\u001b[39;00mimplied\u001b[38;5;132;01m}\u001b[39;00m\u001b[38;5;124m\"\u001b[39m)\n",
      "\u001b[0;31mValueError\u001b[0m: Shape of passed values is (3000, 1), indices imply (3000, 2)"
     ]
    }
   ],
   "source": [
    "train_dir = Path(\"/Users/jeesuppark/Downloads/aihub-meat-image 2/Training\")\n",
    "\n",
    "########## IMAGE ########\n",
    "\n",
    "image_dirs = [\n",
    "    train_dir / \"[image]cow_seg_1\",\n",
    "    train_dir / \"[image]cow_seg_2\",\n",
    "    train_dir / \"[image]cow_seg_3\"\n",
    "]\n",
    "\n",
    "filepaths = []\n",
    "\n",
    "for image_dir in image_dirs:\n",
    "    grade = int(image_dir.stem[-1])  # Extract the last character of the directory name as the grade\n",
    "    filepaths.extend([str(image_dir / file) for file in os.listdir(image_dir) if file.endswith('.jpg')])\n",
    "\n",
    "data = pd.DataFrame(filepaths, columns=['Filepath','Grade'])\n",
    "\n",
    "data['Grade'] = [Path(filepath).stem.split('_')[-2] for filepath in data['Filepath']]\n",
    "data['Grade'] = data['Grade'].apply(gradify)-1\n",
    "\n",
    "train_data = data\n",
    "print(train_data)\n"
   ]
  },
  {
   "cell_type": "code",
   "execution_count": 4,
   "metadata": {
    "colab": {
     "base_uri": "https://localhost:8080/"
    },
    "id": "tPWv2nTMfDlw",
    "outputId": "d7c66778-6d57-46d4-888f-c92194cd9336"
   },
   "outputs": [
    {
     "name": "stdout",
     "output_type": "stream",
     "text": [
      "                                               Filepath Grade\n",
      "0     /Users/jeesuppark/Downloads/aihub-meat-image 2...     0\n",
      "1     /Users/jeesuppark/Downloads/aihub-meat-image 2...     0\n",
      "2     /Users/jeesuppark/Downloads/aihub-meat-image 2...     0\n",
      "3     /Users/jeesuppark/Downloads/aihub-meat-image 2...     0\n",
      "4     /Users/jeesuppark/Downloads/aihub-meat-image 2...     0\n",
      "...                                                 ...   ...\n",
      "2995  /Users/jeesuppark/Downloads/aihub-meat-image 2...     2\n",
      "2996  /Users/jeesuppark/Downloads/aihub-meat-image 2...     2\n",
      "2997  /Users/jeesuppark/Downloads/aihub-meat-image 2...     2\n",
      "2998  /Users/jeesuppark/Downloads/aihub-meat-image 2...     2\n",
      "2999  /Users/jeesuppark/Downloads/aihub-meat-image 2...     2\n",
      "\n",
      "[3000 rows x 2 columns]\n"
     ]
    }
   ],
   "source": [
    "train_data = pd.merge(data, grade_data, on='File ID', how='inner')\n",
    "train_data.drop('File ID', axis = 1,inplace=True)\n",
    "print(train_data)"
   ]
  },
  {
   "cell_type": "code",
   "execution_count": 5,
   "metadata": {
    "colab": {
     "base_uri": "https://localhost:8080/"
    },
    "id": "hU1U48KXo-Ez",
    "outputId": "f3040f6b-d6ae-4f30-bace-7766c883fac4"
   },
   "outputs": [
    {
     "name": "stdout",
     "output_type": "stream",
     "text": [
      "                                               Filepath File ID\n",
      "0     /Users/jeesuppark/Downloads/aihub-meat-image 2...  069878\n",
      "1     /Users/jeesuppark/Downloads/aihub-meat-image 2...  070440\n",
      "2     /Users/jeesuppark/Downloads/aihub-meat-image 2...  069887\n",
      "3     /Users/jeesuppark/Downloads/aihub-meat-image 2...  070871\n",
      "4     /Users/jeesuppark/Downloads/aihub-meat-image 2...  071206\n",
      "...                                                 ...     ...\n",
      "1495  /Users/jeesuppark/Downloads/aihub-meat-image 2...  076499\n",
      "1496  /Users/jeesuppark/Downloads/aihub-meat-image 2...  072172\n",
      "1497  /Users/jeesuppark/Downloads/aihub-meat-image 2...  070765\n",
      "1498  /Users/jeesuppark/Downloads/aihub-meat-image 2...  069552\n",
      "1499  /Users/jeesuppark/Downloads/aihub-meat-image 2...  077036\n",
      "\n",
      "[1500 rows x 2 columns]\n",
      "     File ID Grade\n",
      "0     069946     0\n",
      "1     070634     0\n",
      "2     070458     0\n",
      "3     070663     0\n",
      "4     070399     0\n",
      "...      ...   ...\n",
      "1495  074158     2\n",
      "1496  072825     2\n",
      "1497  075460     2\n",
      "1498  074230     2\n",
      "1499  070336     2\n",
      "\n",
      "[1500 rows x 2 columns]\n"
     ]
    }
   ],
   "source": [
    "valid_dir = Path(\"/Users/jeesuppark/Downloads/aihub-meat-image 2/Validation\")\n",
    "\n",
    "########## IMAGE ########\n",
    "image_dirs = [\n",
    "    valid_dir / \"[image]cow_seg_1\",\n",
    "    valid_dir / \"[image]cow_seg_2\",\n",
    "    valid_dir / \"[image]cow_seg_3\"\n",
    "]\n",
    "\n",
    "filepaths = []\n",
    "\n",
    "for image_dir in image_dirs:\n",
    "    grade = int(image_dir.stem[-1])  # Extract the last character of the directory name as the grade\n",
    "    filepaths.extend([str(image_dir / file) for file in os.listdir(image_dir) if file.endswith('.jpg')])\n",
    "\n",
    "valid_data = pd.DataFrame(filepaths, columns=['Filepath'])\n",
    "\n",
    "valid_data['File ID'] = [Path(filepath).stem.split('_')[-1] for filepath in valid_data['Filepath']]\n",
    "print(valid_data)\n",
    "\n",
    "\n",
    "######## LABEL #############\n",
    "label_dirs = [\n",
    "    valid_dir / \"[label]cow_seg_1\",\n",
    "    valid_dir / \"[label]cow_seg_2\",\n",
    "    valid_dir / \"[label]cow_seg_3\"\n",
    "]\n",
    "\n",
    "valid_label = pd.DataFrame(columns=['File ID', 'Grade'])\n",
    "\n",
    "for label_dir in label_dirs:\n",
    "    # Get all JSON file paths in the label_dir\n",
    "    json_files = label_dir.glob(\"*.json\")\n",
    "\n",
    "    for json_file in json_files:\n",
    "        # Load the JSON file\n",
    "        with open(json_file, 'r') as f:\n",
    "            label_json = json.load(f)\n",
    "\n",
    "        # Extract the points from the label JSON\n",
    "        points = label_json['label_info']['shapes'][0]['points']\n",
    "        grade = int(label_json['label_info']['shapes'][0]['grade'])-1\n",
    "\n",
    "\n",
    "        # Extract the last ID from the file name\n",
    "        file_id = json_file.stem.split('_')[-1]\n",
    "\n",
    "        # Create a temporary DataFrame with the current data\n",
    "        temp_df = pd.DataFrame({\n",
    "            'File ID': [file_id],\n",
    "            'Grade': [grade]\n",
    "        })\n",
    "\n",
    "        # Concatenate the temporary DataFrame with the main points_data DataFrame\n",
    "        valid_label = pd.concat([valid_label, temp_df], ignore_index=True)\n",
    "\n",
    "print(valid_label)\n"
   ]
  },
  {
   "cell_type": "code",
   "execution_count": 6,
   "metadata": {
    "colab": {
     "base_uri": "https://localhost:8080/"
    },
    "id": "ridS2ZBPiVDx",
    "outputId": "7f9bd4aa-6638-4240-a9f8-20e37d1c6cbf"
   },
   "outputs": [
    {
     "name": "stdout",
     "output_type": "stream",
     "text": [
      "                                               Filepath Grade\n",
      "0     /Users/jeesuppark/Downloads/aihub-meat-image 2...     0\n",
      "1     /Users/jeesuppark/Downloads/aihub-meat-image 2...     0\n",
      "2     /Users/jeesuppark/Downloads/aihub-meat-image 2...     0\n",
      "3     /Users/jeesuppark/Downloads/aihub-meat-image 2...     0\n",
      "4     /Users/jeesuppark/Downloads/aihub-meat-image 2...     0\n",
      "...                                                 ...   ...\n",
      "1495  /Users/jeesuppark/Downloads/aihub-meat-image 2...     2\n",
      "1496  /Users/jeesuppark/Downloads/aihub-meat-image 2...     2\n",
      "1497  /Users/jeesuppark/Downloads/aihub-meat-image 2...     2\n",
      "1498  /Users/jeesuppark/Downloads/aihub-meat-image 2...     2\n",
      "1499  /Users/jeesuppark/Downloads/aihub-meat-image 2...     2\n",
      "\n",
      "[1500 rows x 2 columns]\n"
     ]
    }
   ],
   "source": [
    "test_data = pd.merge(valid_data, valid_label, on='File ID', how='inner')\n",
    "test_data.drop('File ID', axis = 1,inplace=True)\n",
    "\n",
    "print(test_data)"
   ]
  },
  {
   "cell_type": "code",
   "execution_count": 7,
   "metadata": {
    "id": "EF2s5824lUgh"
   },
   "outputs": [],
   "source": [
    "class CreateImageDataset(Dataset):\n",
    "    def __init__(self, data, transform=None):\n",
    "        super().__init__()\n",
    "        self.data = data\n",
    "        self.transform = transform\n",
    "\n",
    "\n",
    "    def __len__(self):\n",
    "        return len(self.data)\n",
    "\n",
    "    def __getitem__(self, idx):\n",
    "        img_path = self.data['Filepath'].iloc[idx]\n",
    "        label = self.data['Grade'].iloc[idx]\n",
    "\n",
    "        image = Image.open(img_path)\n",
    "\n",
    "        if self.transform:\n",
    "            image = self.transform(image)\n",
    "        return image, label\n",
    "\n",
    "transformation = transforms.Compose([\n",
    "    transforms.Resize([224,224]),\n",
    "    # transforms.RandomHorizontalFlip(),\n",
    "    # transforms.RandomRotation(10),\n",
    "    # # transforms.RandomGrayscale(),\n",
    "    # transforms.RandomAffine(translate=(0.05,0.05), degrees=0),\n",
    "    transforms.ToTensor(),\n",
    "    ])\n",
    "valid_transformation = transforms.Compose([\n",
    "    transforms.Resize([224,224]),\n",
    "    transforms.ToTensor(),\n",
    "    ])\n"
   ]
  },
  {
   "cell_type": "code",
   "execution_count": 8,
   "metadata": {
    "id": "6iK0iRX_ihI6"
   },
   "outputs": [],
   "source": [
    "#Define hyperparameters\n",
    "batch_size = 32\n",
    "lr = 1e-5\n",
    "epochs = 3"
   ]
  },
  {
   "cell_type": "code",
   "execution_count": 9,
   "metadata": {
    "id": "8tQbNS2Di4_7"
   },
   "outputs": [],
   "source": [
    "train_data.reset_index(drop=True, inplace=True)  # Reset the index of the train_data DataFrame\n",
    "test_data.reset_index(drop=True, inplace=True)  # Reset the index of the test_data DataFrame\n",
    "train_dataset = CreateImageDataset(train_data, transform=transformation)\n",
    "valid_dataset = CreateImageDataset(test_data, transform=valid_transformation)"
   ]
  },
  {
   "cell_type": "code",
   "execution_count": 10,
   "metadata": {
    "id": "5zLCCqyTlSJC"
   },
   "outputs": [],
   "source": [
    "train_dataloader = DataLoader(train_dataset, batch_size=batch_size, shuffle=True)\n",
    "valid_dataloader = DataLoader(valid_dataset, batch_size=batch_size, shuffle=True)"
   ]
  },
  {
   "cell_type": "code",
   "execution_count": 11,
   "metadata": {
    "id": "BiIFbCgJzfCd"
   },
   "outputs": [],
   "source": [
    "import mlflow"
   ]
  },
  {
   "cell_type": "code",
   "execution_count": 23,
   "metadata": {
    "colab": {
     "base_uri": "https://localhost:8080/"
    },
    "id": "IDPIvmaoloZM",
    "outputId": "a33f7f82-ffef-4515-c014-d8580f4496b9"
   },
   "outputs": [
    {
     "name": "stdout",
     "output_type": "stream",
     "text": [
      "cpu\n",
      "Epoch 1/3\n"
     ]
    },
    {
     "name": "stderr",
     "output_type": "stream",
     "text": [
      "100%|███████████████████████████████████████████| 94/94 [10:53<00:00,  6.95s/it]\n"
     ]
    },
    {
     "name": "stdout",
     "output_type": "stream",
     "text": [
      "The Validation Loss is 0.953257938648792 and the validation accuracy is 0.6177811550151976\n",
      "The Training Loss is 1.0366220987857657 and the training accuracy is 0.49490248226950356\n",
      "Epoch 2/3\n"
     ]
    },
    {
     "name": "stderr",
     "output_type": "stream",
     "text": [
      "100%|███████████████████████████████████████████| 94/94 [11:18<00:00,  7.22s/it]\n"
     ]
    },
    {
     "name": "stdout",
     "output_type": "stream",
     "text": [
      "The Validation Loss is 0.8060146709705921 and the validation accuracy is 0.6316489361702128\n",
      "The Training Loss is 0.8701919887928252 and the training accuracy is 0.6283244680851063\n",
      "Epoch 3/3\n"
     ]
    },
    {
     "name": "stderr",
     "output_type": "stream",
     "text": [
      "100%|███████████████████████████████████████████| 94/94 [11:24<00:00,  7.28s/it]\n"
     ]
    },
    {
     "name": "stdout",
     "output_type": "stream",
     "text": [
      "The Validation Loss is 0.7291135293372134 and the validation accuracy is 0.6612841945288753\n",
      "The Training Loss is 0.7336635285235465 and the training accuracy is 0.662677304964539\n"
     ]
    },
    {
     "data": {
      "image/png": "[encoded data removed]",
      "text/plain": [
       "<Figure size 640x480 with 1 Axes>"
      ]
     },
     "metadata": {},
     "output_type": "display_data"
    }
   ],
   "source": [
    "device = 'cuda' if torch.cuda.is_available() else 'cpu'\n",
    "print(device)\n",
    "model = torchvision.models.resnet50(weights=ResNet50_Weights.DEFAULT)\n",
    "in_features = model.fc.in_features\n",
    "model.fc = nn.Linear(in_features, 3)\n",
    "model = model.to(device)\n",
    "\n",
    "criterion = nn.CrossEntropyLoss()\n",
    "optimizer = optim.Adam(model.parameters(), lr = lr)\n",
    "\n",
    "# checkpoint = torch.load('/content/drive/MyDrive/Colab Notebooks/ViT-aihub/model_checkpoint.pt')\n",
    "# model.load_state_dict(checkpoint['model_state_dict'])\n",
    "# optimizer.load_state_dict(checkpoint['optimizer_state_dict'])\n",
    "\n",
    "\n",
    "scheduler = ReduceLROnPlateau(optimizer, patience = 2, factor = 0.5, threshold = 0.005)\n",
    "train_loss, val_loss, train_acc, val_acc =[], [], [], []\n",
    "best_acc = 0\n",
    "with mlflow.start_run() as run:\n",
    "    mlflow.log_param(\"lr\", lr)\n",
    "    mlflow.log_param(\"epoch\", epochs)\n",
    "    mlflow.log_param(\"batch size\", batch_size)\n",
    "    for epoch in range(epochs):\n",
    "        print(f\"Epoch {epoch + 1}/{epochs}\")\n",
    "        #training\n",
    "        model.train()\n",
    "        total_loss, total_correct = 0,0\n",
    "        for x, y in tqdm(train_dataloader):\n",
    "            x = x.to(device)\n",
    "            y = y.to(device)\n",
    "            output = model(x)\n",
    "            _, preds = torch.max(output, 1)\n",
    "            loss = criterion(output, y.long())\n",
    "            optimizer.zero_grad()\n",
    "            loss.backward()\n",
    "            optimizer.step()\n",
    "            total_loss += loss.item()\n",
    "            total_correct += torch.sum(preds == y).item()/len(x)\n",
    "        train_loss.append(total_loss/len(train_dataloader))\n",
    "        train_acc.append(total_correct/len(train_dataloader))\n",
    "\n",
    "        #validation\n",
    "        model.eval()\n",
    "        total_loss, total_correct = 0,0\n",
    "        with torch.no_grad():\n",
    "            for x, y in valid_dataloader:\n",
    "                x = x.to(device)\n",
    "                y = y.to(device)\n",
    "                output = model(x)\n",
    "                _, preds = torch.max(output, 1)\n",
    "                loss = criterion(output, y.long())\n",
    "                optimizer.zero_grad()\n",
    "                total_loss += loss.item()\n",
    "                total_correct += torch.sum(preds == y).item()/len(x)\n",
    "            val_loss.append(total_loss/len(valid_dataloader))\n",
    "            val_acc.append(total_correct/len(valid_dataloader))\n",
    "        scheduler.step(val_loss[-1])\n",
    "        # Logging metrics with MLflow\n",
    "        mlflow.log_metric(\"train_loss\", train_loss[-1])\n",
    "        mlflow.log_metric(\"train_acc\", train_acc[-1])\n",
    "        mlflow.log_metric(\"val_loss\", val_loss[-1])\n",
    "        mlflow.log_metric(\"val_acc\", val_acc[-1])\n",
    "\n",
    "        # saving best model\n",
    "        if val_acc[-1]>best_acc:\n",
    "            best_acc = val_acc[-1]\n",
    "            torch.save({\n",
    "                'epoch':epoch,\n",
    "                'model_state_dict':model.state_dict(),\n",
    "                'optimizer_state_dict':optimizer.state_dict(),\n",
    "                'loss':val_loss[-1],\n",
    "                'acc':val_acc[-1]\n",
    "            }, 'model_checkpoint.pt')\n",
    "        print('The Validation Loss is {} and the validation accuracy is {}'.format(val_loss[-1],val_acc[-1]))\n",
    "        print('The Training Loss is {} and the training accuracy is {}'.format(train_loss[-1],train_acc[-1]))\n",
    "\n",
    "# Plot the curves\n",
    "plt.plot(train_acc, label='train_acc')\n",
    "plt.plot(val_acc, label='val_acc')\n",
    "plt.plot(train_loss, label='train_loss')\n",
    "plt.plot(val_loss, label='val_loss')\n",
    "plt.xlabel('Epoch #')\n",
    "plt.ylabel('Loss / Accuracy')\n",
    "plt.legend()\n",
    "plt.title('Accuracy and Loss Plots')\n",
    "plt.savefig(\"plot.png\")  # Save the plot as an image\n",
    "plt.show()"
   ]
  },
  {
   "cell_type": "code",
   "execution_count": null,
   "metadata": {},
   "outputs": [],
   "source": []
  }
 ],
 "metadata": {
  "accelerator": "GPU",
  "colab": {
   "gpuType": "T4",
   "provenance": []
  },
  "kernelspec": {
   "display_name": "Python 3 (ipykernel)",
   "language": "python",
   "name": "python3"
  },
  "language_info": {
   "codemirror_mode": {
    "name": "ipython",
    "version": 3
   },
   "file_extension": ".py",
   "mimetype": "text/x-python",
   "name": "python",
   "nbconvert_exporter": "python",
   "pygments_lexer": "ipython3",
   "version": "3.9.16"
  }
 },
 "nbformat": 4,
 "nbformat_minor": 1
}
