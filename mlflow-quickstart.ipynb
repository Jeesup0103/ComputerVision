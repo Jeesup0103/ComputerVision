{
 "cells": [
  {
   "cell_type": "code",
   "execution_count": 1,
   "metadata": {
    "colab": {
     "base_uri": "https://localhost:8080/"
    },
    "executionInfo": {
     "elapsed": 13858,
     "status": "ok",
     "timestamp": 1686704751065,
     "user": {
      "displayName": "박지섭",
      "userId": "11788625731049142912"
     },
     "user_tz": -540
    },
    "id": "B0MPNygkbyxA",
    "outputId": "7b87ad6f-90b2-4cbb-e038-0f0545966de5"
   },
   "outputs": [
    {
     "name": "stdout",
     "output_type": "stream",
     "text": [
      "Requirement already satisfied: mlflow in /Users/jeesuppark/opt/miniconda3/lib/python3.9/site-packages (2.4.1)\n",
      "Requirement already satisfied: click<9,>=7.0 in /Users/jeesuppark/opt/miniconda3/lib/python3.9/site-packages (from mlflow) (8.1.3)\n",
      "Requirement already satisfied: cloudpickle<3 in /Users/jeesuppark/opt/miniconda3/lib/python3.9/site-packages (from mlflow) (2.2.1)\n",
      "Requirement already satisfied: databricks-cli<1,>=0.8.7 in /Users/jeesuppark/opt/miniconda3/lib/python3.9/site-packages (from mlflow) (0.17.7)\n",
      "Requirement already satisfied: entrypoints<1 in /Users/jeesuppark/opt/miniconda3/lib/python3.9/site-packages (from mlflow) (0.4)\n",
      "Requirement already satisfied: gitpython<4,>=2.1.0 in /Users/jeesuppark/opt/miniconda3/lib/python3.9/site-packages (from mlflow) (3.1.27)\n",
      "Requirement already satisfied: pyyaml<7,>=5.1 in /Users/jeesuppark/opt/miniconda3/lib/python3.9/site-packages (from mlflow) (6.0)\n",
      "Requirement already satisfied: protobuf<5,>=3.12.0 in /Users/jeesuppark/opt/miniconda3/lib/python3.9/site-packages (from mlflow) (4.21.12)\n",
      "Requirement already satisfied: pytz<2024 in /Users/jeesuppark/opt/miniconda3/lib/python3.9/site-packages (from mlflow) (2022.2.1)\n",
      "Requirement already satisfied: requests<3,>=2.17.3 in /Users/jeesuppark/opt/miniconda3/lib/python3.9/site-packages (from mlflow) (2.28.1)\n",
      "Requirement already satisfied: packaging<24 in /Users/jeesuppark/opt/miniconda3/lib/python3.9/site-packages (from mlflow) (21.3)\n",
      "Requirement already satisfied: importlib-metadata!=4.7.0,<7,>=3.7.0 in /Users/jeesuppark/opt/miniconda3/lib/python3.9/site-packages (from mlflow) (4.12.0)\n",
      "Requirement already satisfied: sqlparse<1,>=0.4.0 in /Users/jeesuppark/opt/miniconda3/lib/python3.9/site-packages (from mlflow) (0.4.4)\n",
      "Requirement already satisfied: alembic!=1.10.0,<2 in /Users/jeesuppark/opt/miniconda3/lib/python3.9/site-packages (from mlflow) (1.11.1)\n",
      "Requirement already satisfied: docker<7,>=4.0.0 in /Users/jeesuppark/opt/miniconda3/lib/python3.9/site-packages (from mlflow) (6.1.3)\n",
      "Requirement already satisfied: Flask<3 in /Users/jeesuppark/opt/miniconda3/lib/python3.9/site-packages (from mlflow) (2.3.2)\n",
      "Requirement already satisfied: numpy<2 in /Users/jeesuppark/opt/miniconda3/lib/python3.9/site-packages (from mlflow) (1.23.2)\n",
      "Requirement already satisfied: scipy<2 in /Users/jeesuppark/opt/miniconda3/lib/python3.9/site-packages (from mlflow) (1.9.1)\n",
      "Requirement already satisfied: pandas<3 in /Users/jeesuppark/opt/miniconda3/lib/python3.9/site-packages (from mlflow) (1.4.3)\n",
      "Requirement already satisfied: querystring-parser<2 in /Users/jeesuppark/opt/miniconda3/lib/python3.9/site-packages (from mlflow) (1.2.4)\n",
      "Requirement already satisfied: sqlalchemy<3,>=1.4.0 in /Users/jeesuppark/opt/miniconda3/lib/python3.9/site-packages (from mlflow) (2.0.16)\n",
      "Requirement already satisfied: scikit-learn<2 in /Users/jeesuppark/opt/miniconda3/lib/python3.9/site-packages (from mlflow) (1.2.2)\n",
      "Requirement already satisfied: pyarrow<13,>=4.0.0 in /Users/jeesuppark/opt/miniconda3/lib/python3.9/site-packages (from mlflow) (12.0.0)\n",
      "Requirement already satisfied: markdown<4,>=3.3 in /Users/jeesuppark/opt/miniconda3/lib/python3.9/site-packages (from mlflow) (3.4.1)\n",
      "Requirement already satisfied: matplotlib<4 in /Users/jeesuppark/opt/miniconda3/lib/python3.9/site-packages (from mlflow) (3.5.3)\n",
      "Requirement already satisfied: gunicorn<21 in /Users/jeesuppark/opt/miniconda3/lib/python3.9/site-packages (from mlflow) (20.1.0)\n",
      "Requirement already satisfied: Jinja2<4,>=2.11 in /Users/jeesuppark/opt/miniconda3/lib/python3.9/site-packages (from mlflow) (3.1.2)\n",
      "Requirement already satisfied: Mako in /Users/jeesuppark/opt/miniconda3/lib/python3.9/site-packages (from alembic!=1.10.0,<2->mlflow) (1.2.4)\n",
      "Requirement already satisfied: typing-extensions>=4 in /Users/jeesuppark/opt/miniconda3/lib/python3.9/site-packages (from alembic!=1.10.0,<2->mlflow) (4.4.0)\n",
      "Requirement already satisfied: pyjwt>=1.7.0 in /Users/jeesuppark/opt/miniconda3/lib/python3.9/site-packages (from databricks-cli<1,>=0.8.7->mlflow) (2.7.0)\n",
      "Requirement already satisfied: oauthlib>=3.1.0 in /Users/jeesuppark/opt/miniconda3/lib/python3.9/site-packages (from databricks-cli<1,>=0.8.7->mlflow) (3.2.2)\n",
      "Requirement already satisfied: tabulate>=0.7.7 in /Users/jeesuppark/opt/miniconda3/lib/python3.9/site-packages (from databricks-cli<1,>=0.8.7->mlflow) (0.9.0)\n",
      "Requirement already satisfied: six>=1.10.0 in /Users/jeesuppark/opt/miniconda3/lib/python3.9/site-packages (from databricks-cli<1,>=0.8.7->mlflow) (1.16.0)\n",
      "Requirement already satisfied: urllib3<2.0.0,>=1.26.7 in /Users/jeesuppark/opt/miniconda3/lib/python3.9/site-packages (from databricks-cli<1,>=0.8.7->mlflow) (1.26.14)\n",
      "Requirement already satisfied: websocket-client>=0.32.0 in /Users/jeesuppark/opt/miniconda3/lib/python3.9/site-packages (from docker<7,>=4.0.0->mlflow) (1.5.3)\n",
      "Requirement already satisfied: Werkzeug>=2.3.3 in /Users/jeesuppark/opt/miniconda3/lib/python3.9/site-packages (from Flask<3->mlflow) (2.3.6)\n",
      "Requirement already satisfied: itsdangerous>=2.1.2 in /Users/jeesuppark/opt/miniconda3/lib/python3.9/site-packages (from Flask<3->mlflow) (2.1.2)\n",
      "Requirement already satisfied: blinker>=1.6.2 in /Users/jeesuppark/opt/miniconda3/lib/python3.9/site-packages (from Flask<3->mlflow) (1.6.2)\n",
      "Requirement already satisfied: gitdb<5,>=4.0.1 in /Users/jeesuppark/opt/miniconda3/lib/python3.9/site-packages (from gitpython<4,>=2.1.0->mlflow) (4.0.10)\n",
      "Requirement already satisfied: setuptools>=3.0 in /Users/jeesuppark/opt/miniconda3/lib/python3.9/site-packages (from gunicorn<21->mlflow) (65.6.3)\n",
      "Requirement already satisfied: zipp>=0.5 in /Users/jeesuppark/opt/miniconda3/lib/python3.9/site-packages (from importlib-metadata!=4.7.0,<7,>=3.7.0->mlflow) (3.8.1)\n",
      "Requirement already satisfied: MarkupSafe>=2.0 in /Users/jeesuppark/opt/miniconda3/lib/python3.9/site-packages (from Jinja2<4,>=2.11->mlflow) (2.1.1)\n",
      "Requirement already satisfied: cycler>=0.10 in /Users/jeesuppark/opt/miniconda3/lib/python3.9/site-packages (from matplotlib<4->mlflow) (0.11.0)\n",
      "Requirement already satisfied: fonttools>=4.22.0 in /Users/jeesuppark/opt/miniconda3/lib/python3.9/site-packages (from matplotlib<4->mlflow) (4.37.1)\n",
      "Requirement already satisfied: kiwisolver>=1.0.1 in /Users/jeesuppark/opt/miniconda3/lib/python3.9/site-packages (from matplotlib<4->mlflow) (1.4.4)\n",
      "Requirement already satisfied: pillow>=6.2.0 in /Users/jeesuppark/opt/miniconda3/lib/python3.9/site-packages (from matplotlib<4->mlflow) (9.4.0)\n",
      "Requirement already satisfied: pyparsing>=2.2.1 in /Users/jeesuppark/opt/miniconda3/lib/python3.9/site-packages (from matplotlib<4->mlflow) (3.0.9)\n",
      "Requirement already satisfied: python-dateutil>=2.7 in /Users/jeesuppark/opt/miniconda3/lib/python3.9/site-packages (from matplotlib<4->mlflow) (2.8.2)\n",
      "Requirement already satisfied: charset-normalizer<3,>=2 in /Users/jeesuppark/opt/miniconda3/lib/python3.9/site-packages (from requests<3,>=2.17.3->mlflow) (2.0.4)\n",
      "Requirement already satisfied: idna<4,>=2.5 in /Users/jeesuppark/opt/miniconda3/lib/python3.9/site-packages (from requests<3,>=2.17.3->mlflow) (2.10)\n",
      "Requirement already satisfied: certifi>=2017.4.17 in /Users/jeesuppark/opt/miniconda3/lib/python3.9/site-packages (from requests<3,>=2.17.3->mlflow) (2022.12.7)\n",
      "Requirement already satisfied: joblib>=1.1.1 in /Users/jeesuppark/opt/miniconda3/lib/python3.9/site-packages (from scikit-learn<2->mlflow) (1.2.0)\n",
      "Requirement already satisfied: threadpoolctl>=2.0.0 in /Users/jeesuppark/opt/miniconda3/lib/python3.9/site-packages (from scikit-learn<2->mlflow) (3.1.0)\n",
      "Requirement already satisfied: smmap<6,>=3.0.1 in /Users/jeesuppark/opt/miniconda3/lib/python3.9/site-packages (from gitdb<5,>=4.0.1->gitpython<4,>=2.1.0->mlflow) (5.0.0)\n",
      "Note: you may need to restart the kernel to use updated packages.\n"
     ]
    }
   ],
   "source": [
    "pip install mlflow"
   ]
  },
  {
   "cell_type": "code",
   "execution_count": 2,
   "metadata": {
    "colab": {
     "base_uri": "https://localhost:8080/"
    },
    "executionInfo": {
     "elapsed": 15743,
     "status": "ok",
     "timestamp": 1686704770106,
     "user": {
      "displayName": "박지섭",
      "userId": "11788625731049142912"
     },
     "user_tz": -540
    },
    "id": "AouLumoOb8lv",
    "outputId": "63e3e192-7b1e-4e7d-e938-a76253f4297d"
   },
   "outputs": [
    {
     "name": "stderr",
     "output_type": "stream",
     "text": [
      "2023/06/14 17:44:56 INFO mlflow.tracking.fluent: Autologging successfully enabled for sklearn.\n",
      "2023/06/14 17:44:56 INFO mlflow.utils.autologging_utils: Created MLflow autologging run with ID 'ebd7183f796e4a4086a968f81b7a1840', which will track hyperparameters, performance metrics, model artifacts, and lineage information for the current sklearn workflow\n",
      "2023/06/14 17:44:57 WARNING mlflow.utils.autologging_utils: MLflow autologging encountered a warning: \"/Users/jeesuppark/opt/miniconda3/lib/python3.9/site-packages/_distutils_hack/__init__.py:33: UserWarning: Setuptools is replacing distutils.\"\n"
     ]
    }
   ],
   "source": [
    "import mlflow\n",
    "\n",
    "from sklearn.model_selection import train_test_split\n",
    "from sklearn.datasets import load_diabetes\n",
    "from sklearn.ensemble import RandomForestRegressor\n",
    "\n",
    "mlflow.autolog()\n",
    "\n",
    "db = load_diabetes()\n",
    "X_train, X_test, y_train, y_test = train_test_split(db.data, db.target)\n",
    "\n",
    "# Create and train models.\n",
    "rf = RandomForestRegressor(n_estimators=100, max_depth=6, max_features=3)\n",
    "rf.fit(X_train, y_train)\n",
    "\n",
    "# Use the model to make predictions on the test dataset.\n",
    "predictions = rf.predict(X_test)"
   ]
  },
  {
   "cell_type": "code",
   "execution_count": 3,
   "metadata": {
    "executionInfo": {
     "elapsed": 348,
     "status": "ok",
     "timestamp": 1686704826244,
     "user": {
      "displayName": "박지섭",
      "userId": "11788625731049142912"
     },
     "user_tz": -540
    },
    "id": "XrZnjyfycAwY"
   },
   "outputs": [],
   "source": [
    "import os\n",
    "from random import random, randint\n",
    "from mlflow import log_metric, log_param, log_params, log_artifacts\n",
    "\n",
    "if __name__ == \"__main__\":\n",
    "    # Log a parameter (key-value pair)\n",
    "    log_param(\"config_value\", randint(0, 100))\n",
    "\n",
    "    # Log a dictionary of parameters\n",
    "    log_params({\"param1\": randint(0, 100), \"param2\": randint(0, 100)})\n",
    "\n",
    "    # Log a metric; metrics can be updated throughout the run\n",
    "    log_metric(\"accuracy\", random() / 2.0)\n",
    "    log_metric(\"accuracy\", random() + 0.1)\n",
    "    log_metric(\"accuracy\", random() + 0.2)\n",
    "\n",
    "    # Log an artifact (output file)\n",
    "    if not os.path.exists(\"outputs\"):\n",
    "        os.makedirs(\"outputs\")\n",
    "    with open(\"outputs/test.txt\", \"w\") as f:\n",
    "        f.write(\"hello world!\")\n",
    "    log_artifacts(\"outputs\")"
   ]
  },
  {
   "cell_type": "code",
   "execution_count": null,
   "metadata": {
    "id": "-uu0T2vrcpPR"
   },
   "outputs": [],
   "source": []
  }
 ],
 "metadata": {
  "colab": {
   "authorship_tag": "ABX9TyMfcwgx8extfYG4a3cdWpRi",
   "mount_file_id": "1fEVAmEG2C0tbqhetdHpyTEEAJI124CBX",
   "name": "",
   "version": ""
  },
  "kernelspec": {
   "display_name": "Python 3 (ipykernel)",
   "language": "python",
   "name": "python3"
  },
  "language_info": {
   "codemirror_mode": {
    "name": "ipython",
    "version": 3
   },
   "file_extension": ".py",
   "mimetype": "text/x-python",
   "name": "python",
   "nbconvert_exporter": "python",
   "pygments_lexer": "ipython3",
   "version": "3.9.16"
  }
 },
 "nbformat": 4,
 "nbformat_minor": 1
}
